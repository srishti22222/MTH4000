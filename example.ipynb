{
 "cells": [
  {
   "cell_type": "code",
   "execution_count": null,
   "id": "fffb1e1c",
   "metadata": {},
   "outputs": [],
   "source": [
    "#code\n",
    "print(\"Hello World!\")"
   ]
  },
  {
   "cell_type": "code",
   "execution_count": null,
   "id": "c0ccad9e",
   "metadata": {},
   "outputs": [],
   "source": []
  },
  {
   "cell_type": "code",
   "execution_count": null,
   "id": "09f46488",
   "metadata": {},
   "outputs": [],
   "source": []
  },
  {
   "cell_type": "code",
   "execution_count": 2,
   "id": "38e8ba18",
   "metadata": {},
   "outputs": [
    {
     "name": "stdout",
     "output_type": "stream",
     "text": [
      "C:\\Users\\hskin\n"
     ]
    }
   ],
   "source": [
    "import os \n",
    "dir_path = os.path.dirname(os.path.realpath('example.ipynb'))\n",
    "print(dir_path)"
   ]
  },
  {
   "cell_type": "code",
   "execution_count": 8,
   "id": "e1bbb231",
   "metadata": {},
   "outputs": [
    {
     "name": "stdout",
     "output_type": "stream",
     "text": [
      "C:\\Users\\hskin\\Downloads\n"
     ]
    }
   ],
   "source": [
    "cd C:\\Users\\hskin\\Downloads\\"
   ]
  },
  {
   "cell_type": "code",
   "execution_count": 6,
   "id": "2b13de6b",
   "metadata": {},
   "outputs": [
    {
     "name": "stdout",
     "output_type": "stream",
     "text": [
      "C:\\Users\\hskin\\Downloads\n"
     ]
    }
   ],
   "source": [
    "dir_path1 = os.path.dirname(os.path.realpath('example.ipynb'))\n",
    "print(dir_path1)"
   ]
  },
  {
   "cell_type": "code",
   "execution_count": null,
   "id": "29bf0646",
   "metadata": {},
   "outputs": [],
   "source": []
  }
 ],
 "metadata": {
  "kernelspec": {
   "display_name": "Python 3 (ipykernel)",
   "language": "python",
   "name": "python3"
  },
  "language_info": {
   "codemirror_mode": {
    "name": "ipython",
    "version": 3
   },
   "file_extension": ".py",
   "mimetype": "text/x-python",
   "name": "python",
   "nbconvert_exporter": "python",
   "pygments_lexer": "ipython3",
   "version": "3.9.7"
  }
 },
 "nbformat": 4,
 "nbformat_minor": 5
}
